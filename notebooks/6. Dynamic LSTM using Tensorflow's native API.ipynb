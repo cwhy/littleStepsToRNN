{
 "cells": [
  {
   "cell_type": "code",
   "execution_count": 1,
   "metadata": {},
   "outputs": [
    {
     "data": {
      "text/html": [
       "\n",
       "    <div class=\"bk-root\">\n",
       "        <a href=\"http://bokeh.pydata.org\" target=\"_blank\" class=\"bk-logo bk-logo-small bk-logo-notebook\"></a>\n",
       "        <span id=\"d17986cd-763a-49e9-9119-a0c737235ebc\">Loading BokehJS ...</span>\n",
       "    </div>"
      ]
     },
     "metadata": {},
     "output_type": "display_data"
    },
    {
     "data": {
      "application/javascript": [
       "\n",
       "(function(global) {\n",
       "  function now() {\n",
       "    return new Date();\n",
       "  }\n",
       "\n",
       "  var force = true;\n",
       "\n",
       "  if (typeof (window._bokeh_onload_callbacks) === \"undefined\" || force === true) {\n",
       "    window._bokeh_onload_callbacks = [];\n",
       "    window._bokeh_is_loading = undefined;\n",
       "  }\n",
       "\n",
       "\n",
       "  \n",
       "  if (typeof (window._bokeh_timeout) === \"undefined\" || force === true) {\n",
       "    window._bokeh_timeout = Date.now() + 5000;\n",
       "    window._bokeh_failed_load = false;\n",
       "  }\n",
       "\n",
       "  var NB_LOAD_WARNING = {'data': {'text/html':\n",
       "     \"<div style='background-color: #fdd'>\\n\"+\n",
       "     \"<p>\\n\"+\n",
       "     \"BokehJS does not appear to have successfully loaded. If loading BokehJS from CDN, this \\n\"+\n",
       "     \"may be due to a slow or bad network connection. Possible fixes:\\n\"+\n",
       "     \"</p>\\n\"+\n",
       "     \"<ul>\\n\"+\n",
       "     \"<li>re-rerun `output_notebook()` to attempt to load from CDN again, or</li>\\n\"+\n",
       "     \"<li>use INLINE resources instead, as so:</li>\\n\"+\n",
       "     \"</ul>\\n\"+\n",
       "     \"<code>\\n\"+\n",
       "     \"from bokeh.resources import INLINE\\n\"+\n",
       "     \"output_notebook(resources=INLINE)\\n\"+\n",
       "     \"</code>\\n\"+\n",
       "     \"</div>\"}};\n",
       "\n",
       "  function display_loaded() {\n",
       "    if (window.Bokeh !== undefined) {\n",
       "      var el = document.getElementById(\"d17986cd-763a-49e9-9119-a0c737235ebc\");\n",
       "      el.textContent = \"BokehJS \" + Bokeh.version + \" successfully loaded.\";\n",
       "    } else if (Date.now() < window._bokeh_timeout) {\n",
       "      setTimeout(display_loaded, 100)\n",
       "    }\n",
       "  }\n",
       "\n",
       "  function run_callbacks() {\n",
       "    window._bokeh_onload_callbacks.forEach(function(callback) { callback() });\n",
       "    delete window._bokeh_onload_callbacks\n",
       "    console.info(\"Bokeh: all callbacks have finished\");\n",
       "  }\n",
       "\n",
       "  function load_libs(js_urls, callback) {\n",
       "    window._bokeh_onload_callbacks.push(callback);\n",
       "    if (window._bokeh_is_loading > 0) {\n",
       "      console.log(\"Bokeh: BokehJS is being loaded, scheduling callback at\", now());\n",
       "      return null;\n",
       "    }\n",
       "    if (js_urls == null || js_urls.length === 0) {\n",
       "      run_callbacks();\n",
       "      return null;\n",
       "    }\n",
       "    console.log(\"Bokeh: BokehJS not loaded, scheduling load and callback at\", now());\n",
       "    window._bokeh_is_loading = js_urls.length;\n",
       "    for (var i = 0; i < js_urls.length; i++) {\n",
       "      var url = js_urls[i];\n",
       "      var s = document.createElement('script');\n",
       "      s.src = url;\n",
       "      s.async = false;\n",
       "      s.onreadystatechange = s.onload = function() {\n",
       "        window._bokeh_is_loading--;\n",
       "        if (window._bokeh_is_loading === 0) {\n",
       "          console.log(\"Bokeh: all BokehJS libraries loaded\");\n",
       "          run_callbacks()\n",
       "        }\n",
       "      };\n",
       "      s.onerror = function() {\n",
       "        console.warn(\"failed to load library \" + url);\n",
       "      };\n",
       "      console.log(\"Bokeh: injecting script tag for BokehJS library: \", url);\n",
       "      document.getElementsByTagName(\"head\")[0].appendChild(s);\n",
       "    }\n",
       "  };var element = document.getElementById(\"d17986cd-763a-49e9-9119-a0c737235ebc\");\n",
       "  if (element == null) {\n",
       "    console.log(\"Bokeh: ERROR: autoload.js configured with elementid 'd17986cd-763a-49e9-9119-a0c737235ebc' but no matching script tag was found. \")\n",
       "    return false;\n",
       "  }\n",
       "\n",
       "  var js_urls = [\"https://cdn.pydata.org/bokeh/release/bokeh-0.12.5.min.js\", \"https://cdn.pydata.org/bokeh/release/bokeh-widgets-0.12.5.min.js\"];\n",
       "\n",
       "  var inline_js = [\n",
       "    function(Bokeh) {\n",
       "      Bokeh.set_log_level(\"info\");\n",
       "    },\n",
       "    \n",
       "    function(Bokeh) {\n",
       "      \n",
       "    },\n",
       "    \n",
       "    function(Bokeh) {\n",
       "      \n",
       "      document.getElementById(\"d17986cd-763a-49e9-9119-a0c737235ebc\").textContent = \"BokehJS is loading...\";\n",
       "    },\n",
       "    function(Bokeh) {\n",
       "      console.log(\"Bokeh: injecting CSS: https://cdn.pydata.org/bokeh/release/bokeh-0.12.5.min.css\");\n",
       "      Bokeh.embed.inject_css(\"https://cdn.pydata.org/bokeh/release/bokeh-0.12.5.min.css\");\n",
       "      console.log(\"Bokeh: injecting CSS: https://cdn.pydata.org/bokeh/release/bokeh-widgets-0.12.5.min.css\");\n",
       "      Bokeh.embed.inject_css(\"https://cdn.pydata.org/bokeh/release/bokeh-widgets-0.12.5.min.css\");\n",
       "    }\n",
       "  ];\n",
       "\n",
       "  function run_inline_js() {\n",
       "    \n",
       "    if ((window.Bokeh !== undefined) || (force === true)) {\n",
       "      for (var i = 0; i < inline_js.length; i++) {\n",
       "        inline_js[i](window.Bokeh);\n",
       "      }if (force === true) {\n",
       "        display_loaded();\n",
       "      }} else if (Date.now() < window._bokeh_timeout) {\n",
       "      setTimeout(run_inline_js, 100);\n",
       "    } else if (!window._bokeh_failed_load) {\n",
       "      console.log(\"Bokeh: BokehJS failed to load within specified timeout.\");\n",
       "      window._bokeh_failed_load = true;\n",
       "    } else if (force !== true) {\n",
       "      var cell = $(document.getElementById(\"d17986cd-763a-49e9-9119-a0c737235ebc\")).parents('.cell').data().cell;\n",
       "      cell.output_area.append_execute_result(NB_LOAD_WARNING)\n",
       "    }\n",
       "\n",
       "  }\n",
       "\n",
       "  if (window._bokeh_is_loading === 0) {\n",
       "    console.log(\"Bokeh: BokehJS loaded, going straight to plotting\");\n",
       "    run_inline_js();\n",
       "  } else {\n",
       "    load_libs(js_urls, function() {\n",
       "      console.log(\"Bokeh: BokehJS plotting callback run at\", now());\n",
       "      run_inline_js();\n",
       "    });\n",
       "  }\n",
       "}(this));"
      ]
     },
     "metadata": {},
     "output_type": "display_data"
    }
   ],
   "source": [
    "import toy_data.sine_wave as swg\n",
    "import numpy as np\n",
    "import bokeh.io\n",
    "import bokeh.plotting as bp\n",
    "import tensorflow as tf\n",
    "bokeh.io.output_notebook()\n",
    "\n",
    "d_x = np.array([int(i) for i in '0010010010010010010'])[np.newaxis, :, np.newaxis]\n",
    "x_dim = 1\n",
    "d_X = np.concatenate([d_x]*x_dim, axis=2)"
   ]
  },
  {
   "cell_type": "code",
   "execution_count": 2,
   "metadata": {},
   "outputs": [
    {
     "data": {
      "text/plain": [
       "(1, 19, 1)"
      ]
     },
     "execution_count": 2,
     "metadata": {},
     "output_type": "execute_result"
    }
   ],
   "source": [
    "d_X.shape # No. of samples, Time, No. of dimensions"
   ]
  },
  {
   "cell_type": "code",
   "execution_count": 3,
   "metadata": {
    "collapsed": true
   },
   "outputs": [],
   "source": [
    "batch_size = 1"
   ]
  },
  {
   "cell_type": "code",
   "execution_count": 4,
   "metadata": {
    "collapsed": true
   },
   "outputs": [],
   "source": [
    "ef = lambda x: tf.expand_dims(x, -1) # expand forward\n",
    "eb = lambda x: tf.expand_dims(x, 0) # expand backward"
   ]
  },
  {
   "cell_type": "code",
   "execution_count": 141,
   "metadata": {
    "scrolled": false
   },
   "outputs": [],
   "source": [
    "state_size = 10\n",
    "tf.reset_default_graph()\n",
    "x = tf.placeholder(tf.float32, [batch_size, None, x_dim]) # [batch_size, num_steps]\n",
    "x_in = x[:,:-1, :]\n",
    "x_out = x[:, 1:, :]\n",
    "cell = tf.contrib.rnn.BasicLSTMCell(state_size)\n",
    "rnn_out, final_state = tf.nn.dynamic_rnn(cell, x_in, dtype=tf.float32)\n",
    "\n",
    "W = tf.get_variable('output_embedding', (state_size, x_dim), initializer=tf.truncated_normal_initializer())\n",
    "out_pred_logit = tf.reduce_sum(ef(rnn_out) * eb(eb(W)), axis=-2)\n",
    "out_pred = tf.sigmoid(out_pred_logit)\n",
    "loss_all = tf.nn.sigmoid_cross_entropy_with_logits(logits=out_pred_logit, labels=x_out)\n",
    "loss = tf.reduce_sum(loss_all)\n",
    "train_step = tf.train.RMSPropOptimizer(0.01).minimize(loss)\n",
    "\n",
    "gen_seq_len = tf.placeholder(tf.int32, [])\n",
    "gen_seq_states = tf.transpose(tf.tile(final_state, (1, gen_seq_len, 1)), [1, 0, 2])\n",
    "\n",
    "def update_state(_state, _):\n",
    "    h = eb(_state[1, :])\n",
    "    c = eb(_state[0, :])\n",
    "    _pred_logit = tf.matmul(h, W)\n",
    "    _pred = tf.sigmoid(_pred_logit)\n",
    "    _states_tuple = tf.nn.rnn_cell.LSTMStateTuple(h, c)\n",
    "    _, _next_state = cell(_pred, _states_tuple)\n",
    "    return tf.concat((_next_state.h, _next_state.c), axis=0)\n",
    "    \n",
    "next_states = tf.scan(update_state, gen_seq_states)\n",
    "next_preds = tf.map_fn(lambda s: tf.sigmoid(tf.matmul(eb(s[1, :]), W)), next_states)"
   ]
  },
  {
   "cell_type": "code",
   "execution_count": 142,
   "metadata": {
    "collapsed": true
   },
   "outputs": [],
   "source": [
    "init = tf.global_variables_initializer()\n",
    "sess = tf.Session()\n",
    "sess.run(init)"
   ]
  },
  {
   "cell_type": "code",
   "execution_count": 143,
   "metadata": {
    "scrolled": false
   },
   "outputs": [],
   "source": [
    "inputs = {x: d_X}\n",
    "gen_inputs = lambda n: {x: d_X, gen_seq_len: n}\n",
    "for i in range(1000):\n",
    "    sess.run(train_step, feed_dict=inputs)"
   ]
  },
  {
   "cell_type": "code",
   "execution_count": 144,
   "metadata": {
    "scrolled": false
   },
   "outputs": [
    {
     "name": "stdout",
     "output_type": "stream",
     "text": [
      "4.90539e-07\n",
      "Actual value\n",
      " [ 0.00  1.00  0.00  0.00  1.00  0.00  0.00  1.00  0.00  0.00  1.00  0.00\n",
      "  0.00  1.00  0.00  0.00  1.00  0.00]\n",
      "Predictions\n",
      " [ 0.00  1.00  0.00  0.00  1.00  0.00  0.00  1.00  0.00  0.00  1.00  0.00\n",
      "  0.00  1.00  0.00  0.00  1.00  0.00]\n",
      "Continue\n",
      " [ 0.00  1.00  0.00  0.00  1.00  0.00  0.00  1.00  0.00  0.00  1.00  0.00\n",
      "  0.00  1.00  0.00  0.00  1.00  0.00  0.00  1.00  0.00  0.00  1.00  0.00\n",
      "  0.00  1.00  0.00  0.00  1.00  0.00  0.00  1.00  0.00  0.00  1.00  0.00\n",
      "  0.00  1.00  0.00  0.00  1.00  0.00  0.00  1.00  0.00  0.00  1.00  0.00\n",
      "  0.00  1.00  0.00  0.00  1.00  0.00  0.00  1.00  0.00  0.00  1.00  0.00\n",
      "  0.00  1.00  0.00  0.00  1.00  0.00  0.00  1.00  0.00  0.00  1.00  0.00\n",
      "  0.00  1.00  0.00  0.00  1.00  0.00  0.00  1.00  0.00  0.00  1.00  0.00\n",
      "  0.00  1.00  0.00  0.00  1.00  0.00  0.00  1.00  0.00  0.00  1.00  0.00\n",
      "  0.00  1.00  0.00  0.00]\n"
     ]
    }
   ],
   "source": [
    "print(sess.run(loss, feed_dict=inputs))\n",
    "np.set_printoptions(formatter={'float': '{: 0.2f}'.format})\n",
    "print('Actual value\\n',sess.run(x_out, feed_dict=inputs).ravel())\n",
    "print('Predictions\\n', sess.run(out_pred, feed_dict=inputs).ravel())\n",
    "# print('Continue1\\n', sess.run(cell(out_pred[:, -1, :], final_state, scope='rnn/gru_cell'), feed_dict=inputs))\n",
    "print('Continue\\n', sess.run(next_preds, feed_dict=gen_inputs(100)).ravel())"
   ]
  }
 ],
 "metadata": {
  "kernelspec": {
   "display_name": "Python 3",
   "language": "python",
   "name": "python3"
  },
  "language_info": {
   "codemirror_mode": {
    "name": "ipython",
    "version": 3
   },
   "file_extension": ".py",
   "mimetype": "text/x-python",
   "name": "python",
   "nbconvert_exporter": "python",
   "pygments_lexer": "ipython3",
   "version": "3.4.3"
  }
 },
 "nbformat": 4,
 "nbformat_minor": 2
}
